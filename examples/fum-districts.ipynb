{
 "cells": [
  {
   "cell_type": "markdown",
   "metadata": {},
   "source": [
    "# 1. Introduction"
   ]
  },
  {
   "cell_type": "markdown",
   "metadata": {},
   "source": [
    "The purpose of this analysis is to estimate locations for district events in FUM.\n",
    "\n",
    "There are a number of assumptions going into this analysis:\n",
    "1. District events are only hosted at high schools with teams.  This is done to reduce the number of distance checks done against the google maps API.\n",
    "2. The district championship is hosted at Williams Arena with 60 teams.\n",
    "3. The world championship (and associated travel distances) is outside the scope of this analysis.\n",
    "4. Teams are only the host for 1 district event.  This simplifies and encourages the search to spread events out.\n",
    "5. Teams would only be going to two district events.  Third district events are outside the scope of this analysis, but there will be extra slots.\n",
    "6. This analysis uses a combined dataset from 2023 and 2024 registration for a team count of 202, requiring 11 district events (and therefore 3 fields).  This analysis uses Minnesota, North Dakota, and South Dakota teams as recommended by the FUM PDO committee.\n",
    "7. This analysis uses 50 miles as a hard cutoff between a \"nearby\" and a \"travel\" event for teams, and a flat cost estimate of $6,000 per travel event per team.  The details of team travel are far too complex for this to fully simulate, but this was chosen as an approximation.\n",
    "8. The 2024 data on the graphs is not yet representative of a full season because many of our teams (including my own) are still on waitlists.  I expect the total travel to be even higher than 2023.\n",
    "\n",
    "The goal of this analysis is to give a good estimate of locations and travel costs for teams if FUM switched to a district system.  It uses a hard cap of 50 miles as a \"nearby\" vs a \"travel\" event.  To estimate the cost to teams, the search aims to give as many teams as possible a \"home\" event which is within 50 miles, then assigns teams travel events to fill the remaining slots.\n"
   ]
  },
  {
   "cell_type": "markdown",
   "metadata": {},
   "source": [
    "# 2. Code"
   ]
  },
  {
   "cell_type": "markdown",
   "metadata": {},
   "source": [
    "## 2.1. Imports"
   ]
  },
  {
   "cell_type": "code",
   "execution_count": 1,
   "metadata": {},
   "outputs": [],
   "source": [
    "import json\n",
    "from frcpy import FRCPy\n",
    "from frcpy.models import Location, PreciseLocation, Event, Team\n",
    "import os\n",
    "from dataclasses import dataclass\n",
    "import numpy as np\n",
    "import pandas as pd\n",
    "import seaborn as sns\n",
    "import matplotlib.pyplot as plt\n",
    "import matplotlib.ticker as mtick\n"
   ]
  },
  {
   "cell_type": "markdown",
   "metadata": {},
   "source": [
    "## 2.2. Constants"
   ]
  },
  {
   "cell_type": "code",
   "execution_count": 2,
   "metadata": {},
   "outputs": [],
   "source": [
    "DISTRICT_TEAMS_PER_EVENT = 40\n",
    "DISTRICT_EVENTS_PER_TEAM = 2\n",
    "DISTRICT_TEAMS_PER_DISTRICT_CHAMPIONSHIP = 60\n"
   ]
  },
  {
   "cell_type": "code",
   "execution_count": 3,
   "metadata": {},
   "outputs": [],
   "source": [
    "MILES_TO_METERS = 1609.344\n",
    "TRAVEL_DISTANCE = 50.0 * MILES_TO_METERS\n",
    "TRAVEL_COST = 6000.00\n"
   ]
  },
  {
   "cell_type": "markdown",
   "metadata": {},
   "source": [
    "### 2.2.1. State abbreviations"
   ]
  },
  {
   "cell_type": "code",
   "execution_count": 4,
   "metadata": {},
   "outputs": [],
   "source": [
    "US_STATE_ABBREVIATIONS = {\n",
    "    'AL': 'Alabama',\n",
    "    'AK': 'Alaska',\n",
    "    'AZ': 'Arizona',\n",
    "    'AR': 'Arkansas',\n",
    "    'CA': 'California',\n",
    "    'CO': 'Colorado',\n",
    "    'CT': 'Connecticut',\n",
    "    'DE': 'Delaware',\n",
    "    'FL': 'Florida',\n",
    "    'GA': 'Georgia',\n",
    "    'HI': 'Hawaii',\n",
    "    'ID': 'Idaho',\n",
    "    'IL': 'Illinois',\n",
    "    'IN': 'Indiana',\n",
    "    'IA': 'Iowa',\n",
    "    'KS': 'Kansas',\n",
    "    'KY': 'Kentucky',\n",
    "    'LA': 'Louisiana',\n",
    "    'ME': 'Maine',\n",
    "    'MD': 'Maryland',\n",
    "    'MA': 'Massachusetts',\n",
    "    'MI': 'Michigan',\n",
    "    'MN': 'Minnesota',\n",
    "    'MS': 'Mississippi',\n",
    "    'MO': 'Missouri',\n",
    "    'MT': 'Montana',\n",
    "    'NE': 'Nebraska',\n",
    "    'NV': 'Nevada',\n",
    "    'NH': 'New Hampshire',\n",
    "    'NJ': 'New Jersey',\n",
    "    'NM': 'New Mexico',\n",
    "    'NY': 'New York',\n",
    "    'NC': 'North Carolina',\n",
    "    'ND': 'North Dakota',\n",
    "    'OH': 'Ohio',\n",
    "    'OK': 'Oklahoma',\n",
    "    'OR': 'Oregon',\n",
    "    'PA': 'Pennsylvania',\n",
    "    'RI': 'Rhode Island',\n",
    "    'SC': 'South Carolina',\n",
    "    'SD': 'South Dakota',\n",
    "    'TN': 'Tennessee',\n",
    "    'TX': 'Texas',\n",
    "    'UT': 'Utah',\n",
    "    'VT': 'Vermont',\n",
    "    'VA': 'Virginia',\n",
    "    'WA': 'Washington',\n",
    "    'WV': 'West Virginia',\n",
    "    'WI': 'Wisconsin',\n",
    "    'WY': 'Wyoming',\n",
    "    'DC': 'District of Columbia',\n",
    "    'MP': 'Northern Mariana Islands',\n",
    "    'PW': 'Palau',\n",
    "    'PR': 'Puerto Rico',\n",
    "    'VI': 'Virgin Islands',\n",
    "    'AA': 'Armed Forces Americas (Except Canada)',\n",
    "    'AE': 'Armed Forces Other/Canada/Other/Middle East',\n",
    "    'AP': 'Armed Forces Pacific'\n",
    "}\n"
   ]
  },
  {
   "cell_type": "markdown",
   "metadata": {},
   "source": [
    "## 2.3. API"
   ]
  },
  {
   "cell_type": "code",
   "execution_count": 5,
   "metadata": {},
   "outputs": [],
   "source": [
    "try:\n",
    "    # Load the tokens from the environment\n",
    "    TBA_TOKEN = os.environ['SECRET_TBA_TOKEN']\n",
    "    GMAPS_TOKEN = os.environ['SECRET_GMAPS_TOKEN']\n",
    "except KeyError:\n",
    "    # Or load from JSON file\n",
    "    with open('token.json', 'r', encoding='UTF+8') as f:\n",
    "        tokens = json.load(f)\n",
    "        TBA_TOKEN = tokens['TBA']\n",
    "        GMAPS_TOKEN = tokens['GMAPS']\n",
    "        del tokens\n",
    "    del f\n",
    "\n",
    "API = FRCPy(TBA_TOKEN, GMAPS_TOKEN)\n",
    "del TBA_TOKEN, GMAPS_TOKEN\n"
   ]
  },
  {
   "cell_type": "markdown",
   "metadata": {},
   "source": [
    "## 2.4. Support functions"
   ]
  },
  {
   "cell_type": "code",
   "execution_count": 6,
   "metadata": {},
   "outputs": [],
   "source": [
    "def is_fum(location: Location) -> bool:\n",
    "    if location.country() != 'USA':\n",
    "        return False\n",
    "\n",
    "    state_prov = location.state_prov()\n",
    "    if state_prov in US_STATE_ABBREVIATIONS.keys():  # Harmonize state names\n",
    "        state_prov = US_STATE_ABBREVIATIONS[state_prov]\n",
    "    return state_prov == 'Minnesota' or state_prov == 'North Dakota' or state_prov == 'South Dakota'\n"
   ]
  },
  {
   "cell_type": "markdown",
   "metadata": {},
   "source": [
    "## 2.5. Read data from APIs"
   ]
  },
  {
   "cell_type": "markdown",
   "metadata": {},
   "source": [
    "### 2.5.1. Teams"
   ]
  },
  {
   "cell_type": "code",
   "execution_count": 7,
   "metadata": {},
   "outputs": [
    {
     "name": "stdout",
     "output_type": "stream",
     "text": [
      "8,293 teams\n"
     ]
    }
   ],
   "source": [
    "# Prepare team keys\n",
    "team_keys = API.teams(cache_expiry=1)\n",
    "print(f\"{len(team_keys):,} teams\")\n"
   ]
  },
  {
   "cell_type": "code",
   "execution_count": 8,
   "metadata": {},
   "outputs": [
    {
     "name": "stdout",
     "output_type": "stream",
     "text": [
      "Found 327 FUM teams\n"
     ]
    }
   ],
   "source": [
    "# Filter for only FUM teams\n",
    "fum_team_keys: list[str] = []\n",
    "for team_key in team_keys:\n",
    "    team = API.team(team_key)\n",
    "    if is_fum(team.location()):\n",
    "        fum_team_keys.append(team_key)\n",
    "    del team_key, team\n",
    "print(f\"Found {len(fum_team_keys)} FUM teams\")\n"
   ]
  },
  {
   "cell_type": "code",
   "execution_count": 9,
   "metadata": {},
   "outputs": [
    {
     "name": "stdout",
     "output_type": "stream",
     "text": [
      "Found 327 precise FUM team locations.\n"
     ]
    }
   ],
   "source": [
    "# Prepare precise team locations\n",
    "fum_team_locations: dict[str, PreciseLocation] = {}\n",
    "for team_key in fum_team_keys:\n",
    "    team = API.team(team_key)\n",
    "    precise_location = API.team_precise_location(team)\n",
    "    if precise_location is not None:\n",
    "        fum_team_locations[team_key] = precise_location\n",
    "    else:\n",
    "        print(f\"Unable to find precise location for {team_key}\")\n",
    "    del team_key, team, precise_location\n",
    "print(f\"Found {len(fum_team_locations.keys())} precise FUM team locations.\")\n"
   ]
  },
  {
   "cell_type": "code",
   "execution_count": 10,
   "metadata": {},
   "outputs": [
    {
     "name": "stdout",
     "output_type": "stream",
     "text": [
      "Found 185 active FUM teams\n",
      "Found 13 retiring FUM teams\n",
      "Found 4 new FUM teams\n",
      "Found 202 total active FUM teams\n"
     ]
    }
   ],
   "source": [
    "# Filter for only active FUM teams\n",
    "active_fum_team_keys: list[str] = []\n",
    "temp: dict[str, list[str]] = {'Both': [], '2023': [], '2024': []}\n",
    "for team_key in fum_team_keys:\n",
    "    team_years = API.team_years(team_key)\n",
    "    if 2023 in team_years and 2024 in team_years:\n",
    "        temp['Both'].append(team_key)\n",
    "    elif 2023 in team_years:\n",
    "        temp['2023'].append(team_key)\n",
    "    elif 2024 in team_years:\n",
    "        temp['2024'].append(team_key)\n",
    "    del team_key, team_years\n",
    "\n",
    "print(f\"Found {len(temp['Both'])} active FUM teams\")\n",
    "print(f\"Found {len(temp['2023'])} retiring FUM teams\")\n",
    "print(f\"Found {len(temp['2024'])} new FUM teams\")\n",
    "active_fum_team_keys.extend(temp['Both'])\n",
    "active_fum_team_keys.extend(temp['2023'])\n",
    "active_fum_team_keys.extend(temp['2024'])\n",
    "del temp\n",
    "print(f\"Found {len(active_fum_team_keys)} total active FUM teams\")\n"
   ]
  },
  {
   "cell_type": "code",
   "execution_count": 11,
   "metadata": {},
   "outputs": [
    {
     "name": "stdout",
     "output_type": "stream",
     "text": [
      "Found 40,602 precise FUM team distances.\n"
     ]
    }
   ],
   "source": [
    "# Prepare team distance matrix\n",
    "active_fum_team_distances: dict[tuple[str, str], float] = {}\n",
    "for team_key_1 in active_fum_team_keys:\n",
    "    for team_key_2 in active_fum_team_keys:\n",
    "        if team_key_1 == team_key_2:\n",
    "            del team_key_2\n",
    "            continue  # Don't check team to itself\n",
    "        if (team_key_1, team_key_2) in active_fum_team_distances.keys() or (team_key_2, team_key_1) in active_fum_team_distances.keys():\n",
    "            del team_key_2\n",
    "            continue  # Don't check distances that already exist\n",
    "        distance = API.precise_distance(fum_team_locations[team_key_1], fum_team_locations[team_key_2])\n",
    "        if distance is None:\n",
    "            print(f\"Unable to check {team_key_1} to {team_key_2}\")\n",
    "            del team_key_2, distance\n",
    "            continue\n",
    "        active_fum_team_distances[(team_key_1, team_key_2)] = distance\n",
    "        active_fum_team_distances[(team_key_2, team_key_1)] = distance\n",
    "        del team_key_2, distance\n",
    "    del team_key_1\n",
    "print(f\"Found {len(active_fum_team_distances.keys()):,} precise FUM team distances.\")\n"
   ]
  },
  {
   "cell_type": "markdown",
   "metadata": {},
   "source": [
    "### 2.5.2. Events"
   ]
  },
  {
   "cell_type": "code",
   "execution_count": 12,
   "metadata": {},
   "outputs": [
    {
     "name": "stdout",
     "output_type": "stream",
     "text": [
      "Found 1 in 1992\n",
      "Found 1 in 1993\n",
      "Found 1 in 1994\n",
      "Found 2 in 1995\n",
      "Found 2 in 1996\n",
      "Found 4 in 1997\n",
      "Found 6 in 1998\n",
      "Found 8 in 1999\n",
      "Found 11 in 2000\n",
      "Found 18 in 2001\n",
      "Found 22 in 2002\n",
      "Found 28 in 2003\n",
      "Found 32 in 2004\n",
      "Found 37 in 2005\n",
      "Found 40 in 2006\n",
      "Found 45 in 2007\n",
      "Found 54 in 2008\n",
      "Found 57 in 2009\n",
      "Found 58 in 2010\n",
      "Found 67 in 2011\n",
      "Found 81 in 2012\n",
      "Found 128 in 2013\n",
      "Found 165 in 2014\n",
      "Found 179 in 2015\n",
      "Found 203 in 2016\n",
      "Found 255 in 2017\n",
      "Found 278 in 2018\n",
      "Found 303 in 2019\n",
      "Found 196 in 2020\n",
      "Found 259 in 2021\n",
      "Found 288 in 2022\n",
      "Found 304 in 2023\n",
      "Found 175 in 2024\n"
     ]
    }
   ],
   "source": [
    "# Prepare event keys\n",
    "event_keys_by_year: dict[int, list[str]] = {}\n",
    "temp = API.year_range()\n",
    "for year in range(temp[0], temp[1] + 1):\n",
    "    event_keys_by_year[year] = API.year_events(year)\n",
    "    print(f\"Found {len(event_keys_by_year[year])} in {year}\")\n",
    "    del year\n",
    "del temp\n"
   ]
  },
  {
   "cell_type": "code",
   "execution_count": 13,
   "metadata": {},
   "outputs": [
    {
     "name": "stdout",
     "output_type": "stream",
     "text": [
      "Found 60 FUM events\n"
     ]
    }
   ],
   "source": [
    "# Filter for only FUM events\n",
    "fum_events: dict[str, Event] = {}\n",
    "for year, event_keys in event_keys_by_year.items():\n",
    "    for event_key in event_keys:\n",
    "        event = API.event(event_key)\n",
    "        if event.event_type() != 0:\n",
    "            del event_key, event\n",
    "            continue\n",
    "        if is_fum(event.location()):\n",
    "            fum_events[event_key] = event\n",
    "        del event_key, event\n",
    "    del year, event_keys\n",
    "print(f\"Found {len(fum_events)} FUM events\")\n"
   ]
  },
  {
   "cell_type": "code",
   "execution_count": 14,
   "metadata": {},
   "outputs": [
    {
     "name": "stdout",
     "output_type": "stream",
     "text": [
      "Found 60 FUM event locations\n"
     ]
    }
   ],
   "source": [
    "# Prepare FUM event precise locations\n",
    "fum_event_locations: dict[str, PreciseLocation] = {}\n",
    "for event_key, event in fum_events.items():\n",
    "    fum_event_locations[event_key] = event.precise_location()\n",
    "    del event_key, event\n",
    "print(f\"Found {len(fum_event_locations.keys())} FUM event locations\")\n"
   ]
  },
  {
   "cell_type": "markdown",
   "metadata": {},
   "source": [
    "# 3. Baseline data"
   ]
  },
  {
   "cell_type": "markdown",
   "metadata": {},
   "source": [
    "## 3.1. Calculations"
   ]
  },
  {
   "cell_type": "code",
   "execution_count": 99,
   "metadata": {},
   "outputs": [
    {
     "name": "stdout",
     "output_type": "stream",
     "text": [
      "1998: $6,000.00 for 1 slot ($6,000.00 per slot, 100.00%, 1 travel, 0 nearby, 388 miles, 387.84 miles per slot)\n",
      "1999: $6,000.00 for 1 slot ($6,000.00 per slot, 100.00%, 1 travel, 0 nearby, 1,621 miles, 1,620.89 miles per slot)\n",
      "2000: $12,000.00 for 2 slots ($6,000.00 per slot, 100.00%, 2 travel, 0 nearby, 2,045 miles, 1,022.42 miles per slot)\n",
      "2001: $6,000.00 for 1 slot ($6,000.00 per slot, 100.00%, 1 travel, 0 nearby, 418 miles, 418.40 miles per slot)\n",
      "2002: $120,000.00 for 20 slots ($6,000.00 per slot, 100.00%, 20 travel, 0 nearby, 16,323 miles, 816.14 miles per slot)\n",
      "2003: $120,000.00 for 20 slots ($6,000.00 per slot, 100.00%, 20 travel, 0 nearby, 18,266 miles, 913.32 miles per slot)\n",
      "2004: $114,000.00 for 19 slots ($6,000.00 per slot, 100.00%, 19 travel, 0 nearby, 15,005 miles, 789.75 miles per slot)\n",
      "2005: $60,000.00 for 10 slots ($6,000.00 per slot, 100.00%, 10 travel, 0 nearby, 8,572 miles, 857.21 miles per slot)\n",
      "2006: $54,000.00 for 9 slots ($6,000.00 per slot, 100.00%, 9 travel, 0 nearby, 4,462 miles, 495.82 miles per slot)\n",
      "2007: $132,000.00 for 22 slots ($6,000.00 per slot, 100.00%, 22 travel, 0 nearby, 10,011 miles, 455.04 miles per slot)\n",
      "2008: $180,000.00 for 65 slots ($2,769.23 per slot, 46.15%, 30 travel, 35 nearby, 10,240 miles, 157.54 miles per slot)\n",
      "2009: $216,000.00 for 93 slots ($2,322.58 per slot, 38.71%, 36 travel, 57 nearby, 9,221 miles, 99.15 miles per slot)\n",
      "2010: $294,000.00 for 112 slots ($2,625.00 per slot, 43.75%, 49 travel, 63 nearby, 12,676 miles, 113.18 miles per slot)\n",
      "2011: $444,000.00 for 144 slots ($3,083.33 per slot, 51.39%, 74 travel, 70 nearby, 13,445 miles, 93.37 miles per slot)\n",
      "2012: $582,000.00 for 177 slots ($3,288.14 per slot, 54.80%, 97 travel, 80 nearby, 19,189 miles, 108.42 miles per slot)\n",
      "2013: $702,000.00 for 207 slots ($3,391.30 per slot, 56.52%, 117 travel, 90 nearby, 24,927 miles, 120.42 miles per slot)\n",
      "2014: $804,000.00 for 221 slots ($3,638.01 per slot, 60.63%, 134 travel, 87 nearby, 26,462 miles, 119.74 miles per slot)\n",
      "2015: $906,000.00 for 238 slots ($3,806.72 per slot, 63.45%, 151 travel, 87 nearby, 32,530 miles, 136.68 miles per slot)\n",
      "2016: $990,000.00 for 257 slots ($3,852.14 per slot, 64.20%, 165 travel, 92 nearby, 37,104 miles, 144.37 miles per slot)\n",
      "2017: $1,026,000.00 for 274 slots ($3,744.53 per slot, 62.41%, 171 travel, 103 nearby, 38,336 miles, 139.91 miles per slot)\n",
      "2018: $1,206,000.00 for 296 slots ($4,074.32 per slot, 67.91%, 201 travel, 95 nearby, 38,095 miles, 128.70 miles per slot)\n",
      "2019: $1,176,000.00 for 299 slots ($3,933.11 per slot, 65.55%, 196 travel, 103 nearby, 40,817 miles, 136.51 miles per slot)\n",
      "2020: $1,260,000.00 for 313 slots ($4,025.56 per slot, 67.09%, 210 travel, 103 nearby, 47,165 miles, 150.69 miles per slot)\n",
      "2022: $1,074,000.00 for 271 slots ($3,963.10 per slot, 66.05%, 179 travel, 92 nearby, 35,860 miles, 132.32 miles per slot)\n",
      "2023: $1,320,000.00 for 286 slots ($4,615.38 per slot, 76.92%, 220 travel, 66 nearby, 53,400 miles, 186.71 miles per slot)\n",
      "2024: $1,164,000.00 for 266 slots ($4,375.94 per slot, 72.93%, 194 travel, 72 nearby, 43,423 miles, 163.25 miles per slot)\n"
     ]
    }
   ],
   "source": [
    "fum_travel_data: dict[int, tuple[int, int, float]] = {}\n",
    "for year in event_keys_by_year.keys():\n",
    "    if year == 2021:\n",
    "        del year\n",
    "        continue\n",
    "    nearby = 0\n",
    "    travel = 0\n",
    "    total = 0\n",
    "    for team_key in fum_team_keys:\n",
    "        team_years = API.team_years(team_key)\n",
    "        if year not in team_years:\n",
    "            del team_key, team_years\n",
    "            continue\n",
    "\n",
    "        # Team competed this year, check travel costs\n",
    "        team_location = fum_team_locations[team_key]\n",
    "        for event_key in API.team_year_events(team_key, year):\n",
    "            if event_key in fum_events.keys():\n",
    "                event = fum_events[event_key]\n",
    "            else:\n",
    "                event = API.event(event_key)\n",
    "            if event.event_type() != 0:\n",
    "                del event_key, event\n",
    "                continue\n",
    "\n",
    "            if event_key in fum_event_locations.keys():\n",
    "                event_location = fum_event_locations[event_key]\n",
    "            else:\n",
    "                event_location = API.event(event_key).precise_location()\n",
    "            try:\n",
    "                distance = API.precise_distance(team_location, event_location)\n",
    "            except BaseException as e:\n",
    "                MANUAL_TRAVEL_EVENTS = [\n",
    "                    ('frc874', '2006co'),\n",
    "                    ('frc878', '2006co'),\n",
    "                    ('frc1349', '2006co'),\n",
    "                    ('frc877', '2007co')\n",
    "                ]\n",
    "                MANUAL_NEARBY_EVENTS = []\n",
    "                if (team_key, event_key) in MANUAL_TRAVEL_EVENTS:\n",
    "                    travel += 1\n",
    "                elif (team_key, event_key) in MANUAL_TRAVEL_EVENTS:\n",
    "                    nearby += 1\n",
    "                else:\n",
    "                    print(\n",
    "                        f\"Failed to get distance from {team_key} to {event_key}: {e}\")\n",
    "                del MANUAL_TRAVEL_EVENTS, MANUAL_NEARBY_EVENTS, event_key, event_location\n",
    "                continue\n",
    "            if distance is None:\n",
    "                print(f\"Unable to get distance from {team_key} to {event_key}\")\n",
    "                del event_key, event, event_location, distance\n",
    "                continue\n",
    "            total += distance\n",
    "            if distance < TRAVEL_DISTANCE:\n",
    "                nearby += 1\n",
    "            else:\n",
    "                travel += 1\n",
    "            del event_key, event, event_location, distance\n",
    "        del team_key, team_years, team_location\n",
    "    if travel + nearby > 0:\n",
    "        fum_travel_data[year] = (nearby, travel, total)\n",
    "        print(f\"{year}: ${travel * TRAVEL_COST:,.2f} for {(travel + nearby):,} slot{'s' if (travel + nearby) > 1 else ''} (${((travel * TRAVEL_COST) / (travel + nearby)):,.2f} per slot, {((travel * 100.0) / (travel + nearby)):,.2f}%, {travel:,} travel, {nearby:,} nearby, {total / MILES_TO_METERS:,.0f} miles, {total / MILES_TO_METERS / (travel + nearby):,.2f} miles per slot)\")\n",
    "    del year, nearby, travel, total\n"
   ]
  },
  {
   "cell_type": "markdown",
   "metadata": {},
   "source": [
    "# 4. District events"
   ]
  },
  {
   "cell_type": "markdown",
   "metadata": {},
   "source": [
    "## 4.1. Data structures"
   ]
  },
  {
   "cell_type": "code",
   "execution_count": 100,
   "metadata": {},
   "outputs": [],
   "source": [
    "@dataclass\n",
    "class VenueCandidate:\n",
    "    home_team_key: str\n",
    "    nearby_team_keys: list[tuple[str, float]]\n",
    "\n",
    "    def remove_teams(self, team_keys: list[str]) -> None:\n",
    "        nearby = []\n",
    "        for team_key, distance in self.nearby_team_keys:\n",
    "            if team_key in team_keys:\n",
    "                del team_key, distance\n",
    "                continue\n",
    "            nearby.append((team_key, distance))\n",
    "            del team_key, distance\n",
    "        self.nearby_team_keys = nearby\n",
    "        del nearby\n",
    "\n",
    "    def __str__(self) -> str:\n",
    "        return f\"{self.home_team_key}: {len(self.nearby_team_keys)}\"\n"
   ]
  },
  {
   "cell_type": "code",
   "execution_count": 101,
   "metadata": {},
   "outputs": [],
   "source": [
    "@dataclass\n",
    "class DistrictEvent:\n",
    "    home_team_key: str\n",
    "    nearby_teams: dict[str, float]\n",
    "    travel_teams: dict[str, float]\n",
    "\n",
    "    def team_count(self) -> int:\n",
    "        return 1 + len(self.nearby_teams.keys()) + len(self.travel_teams.keys())\n",
    "\n",
    "    def total_travel_distance(self) -> float:\n",
    "        result = 0\n",
    "        for _, distance in self.nearby_teams.items():\n",
    "            result += distance\n",
    "            del distance\n",
    "        for _, distance in self.travel_teams.items():\n",
    "            result += distance\n",
    "            del distance\n",
    "        return result\n"
   ]
  },
  {
   "cell_type": "code",
   "execution_count": 102,
   "metadata": {},
   "outputs": [],
   "source": [
    "@dataclass\n",
    "class DistrictTeam:\n",
    "    team_key: str\n",
    "    events: list[DistrictEvent]\n",
    "\n",
    "    def event_stats(self) -> tuple[int, int, int]:\n",
    "        hosting = 0\n",
    "        nearby = 0\n",
    "        travel = 0\n",
    "        for event in self.events:\n",
    "            if self.team_key == event.home_team_key:\n",
    "                hosting += 1\n",
    "            elif self.team_key in event.nearby_teams.keys():\n",
    "                nearby += 1\n",
    "            elif self.team_key in event.travel_teams.keys():\n",
    "                travel += 1\n",
    "        return hosting, nearby, travel\n",
    "\n",
    "    def __str__(self) -> str:\n",
    "        return f\"{self.team_key}: {len(self.events)}\"\n",
    "\n",
    "    def __lt__(self, other: 'DistrictTeam') -> bool:\n",
    "        if len(self.events) > len(other.events):\n",
    "            return False\n",
    "        elif len(self.events) < len(other.events):\n",
    "            return True\n",
    "\n",
    "        our_stats = self.event_stats()\n",
    "        their_stats = other.event_stats()\n",
    "        if our_stats[0] > their_stats[0]:\n",
    "            return False\n",
    "        elif our_stats[0] < their_stats[0]:\n",
    "            return True\n",
    "        if our_stats[1] > their_stats[1]:\n",
    "            return False\n",
    "        elif our_stats[1] < their_stats[1]:\n",
    "            return True\n",
    "        if our_stats[2] > their_stats[2]:\n",
    "            return False\n",
    "        elif our_stats[2] < their_stats[2]:\n",
    "            return True\n",
    "        return False\n"
   ]
  },
  {
   "cell_type": "markdown",
   "metadata": {},
   "source": [
    "## 4.2. Support functions"
   ]
  },
  {
   "cell_type": "code",
   "execution_count": 103,
   "metadata": {},
   "outputs": [],
   "source": [
    "def create_venue_candidates() -> list[VenueCandidate]:\n",
    "    venues: list[VenueCandidate] = []\n",
    "    for home_team_key in active_fum_team_keys:\n",
    "        nearby = []\n",
    "        for other_team_key in active_fum_team_keys:\n",
    "            if home_team_key == other_team_key:\n",
    "                continue  # Don't check team to itself\n",
    "            distance = active_fum_team_distances[(home_team_key, other_team_key)]\n",
    "            if distance < TRAVEL_DISTANCE:\n",
    "                nearby.append((other_team_key, distance))\n",
    "            del other_team_key, distance\n",
    "        nearby.sort(key=lambda x : x[1])\n",
    "        venues.append(VenueCandidate(home_team_key, nearby))\n",
    "        del home_team_key, nearby\n",
    "    return venues\n"
   ]
  },
  {
   "cell_type": "markdown",
   "metadata": {},
   "source": [
    "## 4.3. Find home events"
   ]
  },
  {
   "cell_type": "code",
   "execution_count": 104,
   "metadata": {},
   "outputs": [
    {
     "name": "stdout",
     "output_type": "stream",
     "text": [
      "------------------------------------------------------------------------------------------------------------------------\n",
      "1 Event:\n",
      "- frc3630: 39\n",
      "162 remaining venues\n",
      "------------------------------------------------------------------------------------------------------------------------\n",
      "2 Events:\n",
      "- frc3630: 39\n",
      "- frc2177: 39\n",
      "122 remaining venues\n",
      "------------------------------------------------------------------------------------------------------------------------\n",
      "3 Events:\n",
      "- frc3630: 39\n",
      "- frc2177: 39\n",
      "- frc6175: 22\n",
      "99 remaining venues\n",
      "------------------------------------------------------------------------------------------------------------------------\n",
      "4 Events:\n",
      "- frc3630: 39\n",
      "- frc2177: 39\n",
      "- frc6175: 22\n",
      "- frc2512: 10\n",
      "88 remaining venues\n",
      "------------------------------------------------------------------------------------------------------------------------\n",
      "5 Events:\n",
      "- frc3630: 39\n",
      "- frc2177: 39\n",
      "- frc6175: 22\n",
      "- frc2512: 10\n",
      "- frc3691: 10\n",
      "77 remaining venues\n",
      "------------------------------------------------------------------------------------------------------------------------\n",
      "6 Events:\n",
      "- frc3630: 39\n",
      "- frc2177: 39\n",
      "- frc6175: 22\n",
      "- frc2512: 10\n",
      "- frc3691: 10\n",
      "- frc5913: 8\n",
      "68 remaining venues\n",
      "------------------------------------------------------------------------------------------------------------------------\n",
      "7 Events:\n",
      "- frc3630: 39\n",
      "- frc2177: 39\n",
      "- frc6175: 22\n",
      "- frc2512: 10\n",
      "- frc3691: 10\n",
      "- frc5913: 8\n",
      "- frc3212: 6\n",
      "61 remaining venues\n",
      "------------------------------------------------------------------------------------------------------------------------\n",
      "8 Events:\n",
      "- frc3630: 39\n",
      "- frc2177: 39\n",
      "- frc6175: 22\n",
      "- frc2512: 10\n",
      "- frc3691: 10\n",
      "- frc5913: 8\n",
      "- frc3212: 6\n",
      "- frc3278: 6\n",
      "54 remaining venues\n",
      "------------------------------------------------------------------------------------------------------------------------\n",
      "9 Events:\n",
      "- frc3630: 39\n",
      "- frc2177: 39\n",
      "- frc6175: 22\n",
      "- frc2512: 10\n",
      "- frc3691: 10\n",
      "- frc5913: 8\n",
      "- frc3212: 6\n",
      "- frc3278: 6\n",
      "- frc4181: 6\n",
      "47 remaining venues\n",
      "------------------------------------------------------------------------------------------------------------------------\n",
      "10 Events:\n",
      "- frc3630: 39\n",
      "- frc2177: 39\n",
      "- frc6175: 22\n",
      "- frc2512: 10\n",
      "- frc3691: 10\n",
      "- frc5913: 8\n",
      "- frc3212: 6\n",
      "- frc3278: 6\n",
      "- frc4181: 6\n",
      "- frc2847: 5\n",
      "41 remaining venues\n",
      "------------------------------------------------------------------------------------------------------------------------\n",
      "11 Events:\n",
      "- frc3630: 39\n",
      "- frc2177: 39\n",
      "- frc6175: 22\n",
      "- frc2512: 10\n",
      "- frc3691: 10\n",
      "- frc5913: 8\n",
      "- frc3212: 6\n",
      "- frc3278: 6\n",
      "- frc4181: 6\n",
      "- frc2847: 5\n",
      "- frc5464: 5\n",
      "35 remaining venues\n"
     ]
    }
   ],
   "source": [
    "assigned_team_keys: dict[str, dict[str, float]] = {}\n",
    "unassigned_team_keys: list[str] = active_fum_team_keys.copy()\n",
    "\n",
    "venue_candidates = create_venue_candidates()\n",
    "while len(assigned_team_keys.keys()) < (len(active_fum_team_keys) * 2 // DISTRICT_TEAMS_PER_EVENT) + 1:\n",
    "    # Sort venue candidates\n",
    "    venue_candidates.sort(\n",
    "        key=lambda x: Team.team_key_to_number(x.home_team_key))\n",
    "    venue_candidates.reverse()\n",
    "    venue_candidates.sort(key=lambda x: len(x.nearby_team_keys))\n",
    "    venue_candidates.reverse()\n",
    "\n",
    "    # Select the event host\n",
    "    event_host_key = venue_candidates[0].home_team_key\n",
    "\n",
    "    # Select the event teams\n",
    "    event_assigned_teams = {}\n",
    "    for team_key, distance in venue_candidates[0].nearby_team_keys[:(DISTRICT_TEAMS_PER_EVENT - 1)]:\n",
    "        event_assigned_teams[team_key] = distance\n",
    "        del team_key, distance\n",
    "    event_assigned_team_keys = list(event_assigned_teams.keys())\n",
    "    assigned_team_keys[event_host_key] = event_assigned_teams\n",
    "    del event_assigned_teams\n",
    "\n",
    "    # Prune the venue candidate\n",
    "    venue_candidates = venue_candidates[1:]\n",
    "\n",
    "    # Remove event host and teams from unassigned list\n",
    "    event_assigned_team_keys.insert(0, event_host_key)\n",
    "    del event_host_key\n",
    "    for event_assigned_team_key in event_assigned_team_keys:\n",
    "        unassigned_team_keys.remove(event_assigned_team_key)\n",
    "        del event_assigned_team_key\n",
    "\n",
    "    # Remove event host and teams from all future candidates\n",
    "    result = []\n",
    "    for venue_candidate in venue_candidates:\n",
    "        if venue_candidate.home_team_key in event_assigned_team_keys:\n",
    "            continue\n",
    "        venue_candidate.remove_teams(event_assigned_team_keys)\n",
    "        result.append(venue_candidate)\n",
    "        del venue_candidate\n",
    "    venue_candidates = result\n",
    "    del event_assigned_team_keys, result\n",
    "\n",
    "    print('-' * 120)\n",
    "    if len(assigned_team_keys.keys()) > 0:\n",
    "        print(\n",
    "            f\"{len(assigned_team_keys.keys())} Event{'s' if len(assigned_team_keys.keys()) > 1 else ''}:\")\n",
    "        for event_host_key, event_team_list in assigned_team_keys.items():\n",
    "            print(f\"- {event_host_key}: {len(event_team_list)}\")\n",
    "            del event_host_key, event_team_list\n",
    "    else:\n",
    "        print('0 Events, ', end='')\n",
    "    print(f\"{len(venue_candidates)} remaining venues\")\n",
    "del venue_candidates\n"
   ]
  },
  {
   "cell_type": "code",
   "execution_count": 105,
   "metadata": {},
   "outputs": [],
   "source": [
    "events: list[DistrictEvent] = []\n",
    "for event_host_key, event_assigned_teams in assigned_team_keys.items():\n",
    "    events.append(DistrictEvent(event_host_key, event_assigned_teams, {}))\n",
    "    del event_host_key, event_assigned_teams\n"
   ]
  },
  {
   "cell_type": "code",
   "execution_count": 106,
   "metadata": {},
   "outputs": [],
   "source": [
    "teams: list[DistrictTeam] = []\n",
    "for team_key in unassigned_team_keys:\n",
    "    teams.append(DistrictTeam(team_key, []))\n",
    "    del team_key\n",
    "for event in events:\n",
    "    teams.append(DistrictTeam(event.home_team_key, [event]))\n",
    "    for team_key, _ in event.nearby_teams.items():\n",
    "        teams.append(DistrictTeam(team_key, [event]))\n",
    "        del team_key\n",
    "    del event\n"
   ]
  },
  {
   "cell_type": "code",
   "execution_count": 107,
   "metadata": {},
   "outputs": [],
   "source": [
    "del assigned_team_keys, unassigned_team_keys\n"
   ]
  },
  {
   "cell_type": "markdown",
   "metadata": {},
   "source": [
    "## 4.4. Find travel events"
   ]
  },
  {
   "cell_type": "code",
   "execution_count": 108,
   "metadata": {},
   "outputs": [],
   "source": [
    "while True:\n",
    "    teams.sort()\n",
    "\n",
    "    team = teams[0]\n",
    "    if len(team.events) == DISTRICT_EVENTS_PER_TEAM:\n",
    "        break # We've found events for all teams!\n",
    "\n",
    "    nearest_open_event = None\n",
    "    for event in events:\n",
    "        if event.team_count() >= DISTRICT_TEAMS_PER_EVENT or event.home_team_key == team.team_key:\n",
    "            del event\n",
    "            continue\n",
    "        distance = active_fum_team_distances[(team.team_key, event.home_team_key)]\n",
    "        if nearest_open_event is None or distance < nearest_open_event[1]:\n",
    "            nearest_open_event = (event, distance)\n",
    "        del event, distance\n",
    "\n",
    "    if nearest_open_event is None:\n",
    "        print(f\"Unable to place {team.team_key} in an event!\")\n",
    "        del team, nearest_open_event\n",
    "        break\n",
    "\n",
    "    team.events.append(nearest_open_event[0])\n",
    "    if nearest_open_event[1] < TRAVEL_DISTANCE:\n",
    "        nearest_open_event[0].nearby_teams[team.team_key] = nearest_open_event[1]\n",
    "    else:\n",
    "        nearest_open_event[0].travel_teams[team.team_key] = nearest_open_event[1]\n",
    "    del team, nearest_open_event\n"
   ]
  },
  {
   "cell_type": "markdown",
   "metadata": {},
   "source": [
    "## 4.5. Analysis"
   ]
  },
  {
   "cell_type": "code",
   "execution_count": 109,
   "metadata": {},
   "outputs": [
    {
     "name": "stdout",
     "output_type": "stream",
     "text": [
      "11 events:\n",
      "- Hosted by 3630 in Minneapolis with 40 teams (40 nearby & 0 travel)\n",
      "- Hosted by 2177 in Mendota Heights with 40 teams (40 nearby & 0 travel)\n",
      "- Hosted by 6175 in Eden Valley-Watkins with 40 teams (23 nearby & 17 travel)\n",
      "- Hosted by 2512 in Duluth with 20 teams (11 nearby & 9 travel)\n",
      "- Hosted by 3691 in Northfield with 40 teams (34 nearby & 6 travel)\n",
      "- Hosted by 5913 in Pequot Lakes with 24 teams (9 nearby & 15 travel)\n",
      "- Hosted by 3212 in Granite Falls with 32 teams (9 nearby & 23 travel)\n",
      "- Hosted by 3278 in Detroit Lakes with 19 teams (8 nearby & 11 travel)\n",
      "- Hosted by 4181 in Blackduck with 11 teams (7 nearby & 4 travel)\n",
      "- Hosted by 2847 in Fairmont with 23 teams (6 nearby & 17 travel)\n",
      "- Hosted by 5464 in Cambridge with 40 teams (21 nearby & 19 travel)\n"
     ]
    }
   ],
   "source": [
    "print(f\"{len(events)} events:\")\n",
    "for event in events:\n",
    "    print(f\"- Hosted by {Team.team_key_to_number(event.home_team_key)} in {API.team(event.home_team_key).location().city()} with {event.team_count()} teams ({1 + len(event.nearby_teams.keys())} nearby & {len(event.travel_teams.keys())} travel)\")\n",
    "    del event\n"
   ]
  },
  {
   "cell_type": "code",
   "execution_count": 110,
   "metadata": {},
   "outputs": [
    {
     "name": "stdout",
     "output_type": "stream",
     "text": [
      "Double nearby: 81\n",
      "Mixed: 86\n",
      "Double travel: 35\n",
      "Total cost: $936,000.00 for 404 slots ($2,316.83 per slot, 38.61%, 156 travel, 248 nearby)\n"
     ]
    }
   ],
   "source": [
    "team_travel_categories: dict[str, list[DistrictTeam]] = {\n",
    "    'Double nearby': [], 'Mixed': [], 'Double travel': []}\n",
    "total_slots = 0\n",
    "total_travel = 0\n",
    "for team in teams:\n",
    "    hosting, nearby, travel = team.event_stats()\n",
    "    total_travel += travel\n",
    "    total_slots += hosting + nearby + travel\n",
    "    assert hosting + nearby + travel == DISTRICT_EVENTS_PER_TEAM\n",
    "    match travel:\n",
    "        case 2:\n",
    "            team_travel_categories['Double travel'].append(team)\n",
    "        case 1:\n",
    "            team_travel_categories['Mixed'].append(team)\n",
    "        case 0:\n",
    "            team_travel_categories['Double nearby'].append(team)\n",
    "    del team, hosting, nearby, travel\n",
    "\n",
    "for key, team_list in team_travel_categories.items():\n",
    "    print(f\"{key}: {len(team_list)}\")\n",
    "    del key, team_list\n",
    "print(f\"Total cost: ${total_travel * TRAVEL_COST:,.2f} for {total_slots} slots (${total_travel * TRAVEL_COST / total_slots:,.2f} per slot, {total_travel * 100.0 / total_slots:.2f}%, {total_travel} travel, {total_slots - total_travel} nearby)\")\n",
    "district_travel_data = (total_slots, total_travel, total_slots - total_travel)\n",
    "del team_travel_categories, total_slots, total_travel\n"
   ]
  },
  {
   "cell_type": "markdown",
   "metadata": {},
   "source": [
    "# 5. District Championship"
   ]
  },
  {
   "cell_type": "code",
   "execution_count": 111,
   "metadata": {},
   "outputs": [],
   "source": [
    "team_epas: list[tuple[str, float]] = []\n",
    "for team_key in active_fum_team_keys:\n",
    "    try:\n",
    "        team_stats = API.team_year_stats(team_key, 2024)\n",
    "    except UserWarning:\n",
    "        team_stats = API.team_year_stats(team_key, 2023)\n",
    "    team_epas.append((team_key, team_stats.norm_epa_end()))\n",
    "    del team_key, team_stats\n",
    "team_epas.sort(key=lambda x: x[1], reverse=True)\n"
   ]
  },
  {
   "cell_type": "code",
   "execution_count": 112,
   "metadata": {},
   "outputs": [
    {
     "name": "stdout",
     "output_type": "stream",
     "text": [
      "District championship at TDB Builders with 60 teams, 32 travel and 28 nearby\n",
      "Cost: $192,000.00 for 60 slots ($3,200.00 per slot, 53.33%, 32 travel, 28 nearby)\n"
     ]
    }
   ],
   "source": [
    "event_location = fum_event_locations['2024mnmi']\n",
    "travel = 0\n",
    "nearby = 0\n",
    "district_championship_teams: dict[str, float] = {}\n",
    "for team_key, _ in team_epas[:DISTRICT_TEAMS_PER_DISTRICT_CHAMPIONSHIP]:\n",
    "    distance = API.precise_distance(\n",
    "        fum_team_locations[team_key], event_location)\n",
    "    if distance is None:\n",
    "        print(f\"Unable to find distance from {team_key} to {event_location}\")\n",
    "        del team_key, distance\n",
    "        continue\n",
    "    district_championship_teams[team_key] = distance\n",
    "    if distance < TRAVEL_DISTANCE:\n",
    "        travel += 1\n",
    "    else:\n",
    "        nearby += 1\n",
    "    del team_key, distance\n",
    "print(f\"District championship at {fum_events['2024mnmi'].location_name()} with {travel + nearby} teams, {travel} travel and {nearby} nearby\")\n",
    "print(f\"Cost: ${travel * TRAVEL_COST:,.2f} for {travel + nearby} slots (${travel * TRAVEL_COST / (travel + nearby):,.2f} per slot, {travel * 100.0 / (travel + nearby):.2f}%, {travel} travel, {nearby} nearby)\")\n",
    "district_travel_data = (district_travel_data[0] + travel + nearby,\n",
    "                        district_travel_data[1] + travel, district_travel_data[2] + nearby)\n",
    "del event_location, travel, nearby\n"
   ]
  },
  {
   "cell_type": "markdown",
   "metadata": {},
   "source": [
    "# 6. Analysis"
   ]
  },
  {
   "cell_type": "code",
   "execution_count": 119,
   "metadata": {},
   "outputs": [],
   "source": [
    "data = {\n",
    "    'Year': [],\n",
    "    'Travel slots': [],\n",
    "    'Nearby slots': [],\n",
    "    'Total distance': [],\n",
    "    'Color': []\n",
    "}\n",
    "for year, (nearby, travel, total) in fum_travel_data.items():\n",
    "    data['Year'].append(year)\n",
    "    data['Travel slots'].append(travel)\n",
    "    data['Nearby slots'].append(nearby)\n",
    "    data['Total distance'].append(total / MILES_TO_METERS)\n",
    "    data['Color'].append('Blue')\n",
    "    del year, nearby, travel, total\n",
    "data['Year'].append('Districts')\n",
    "data['Travel slots'].append(district_travel_data[1])\n",
    "data['Nearby slots'].append(district_travel_data[2])\n",
    "data['Color'].append('Orange')\n",
    "total = 0\n",
    "for event in events:\n",
    "    total += event.total_travel_distance()\n",
    "    del event\n",
    "for _, distance in district_championship_teams.items():\n",
    "    total += distance\n",
    "    del distance\n",
    "data['Total distance'].append(total / MILES_TO_METERS)\n",
    "del total\n",
    "\n",
    "fum_travel_data_df = pd.DataFrame(data)\n",
    "del data\n",
    "fum_travel_data_df['Total slots'] = fum_travel_data_df['Nearby slots'] + \\\n",
    "    fum_travel_data_df['Travel slots']\n",
    "fum_travel_data_df['Travel percent'] = fum_travel_data_df['Travel slots'] / \\\n",
    "    fum_travel_data_df['Total slots'] * 100\n",
    "fum_travel_data_df['Travel costs'] = fum_travel_data_df['Travel slots'] * TRAVEL_COST\n",
    "fum_travel_data_df['Travel cost per slot'] = fum_travel_data_df['Travel costs'] / \\\n",
    "    fum_travel_data_df['Total slots']\n",
    "fum_travel_data_df['Travel distance per slot'] = fum_travel_data_df['Total distance'] / \\\n",
    "    fum_travel_data_df['Total slots']\n",
    "fum_travel_data_df.to_csv('fum-regional-vs-district-travel.csv')\n"
   ]
  },
  {
   "cell_type": "code",
   "execution_count": 120,
   "metadata": {},
   "outputs": [],
   "source": [
    "data = {\n",
    "    'Team': [],\n",
    "    'Event 1 Host': [],\n",
    "    'Event 1 Type': [],\n",
    "    'Event 1 Distance': [],\n",
    "    'Event 2 Host': [],\n",
    "    'Event 2 Type': [],\n",
    "    'Event 2 Distance': [],\n",
    "    'District Championship': [],\n",
    "    'District Championship Type': [],\n",
    "    'District Championship Distance': [],\n",
    "}\n",
    "for team in teams:\n",
    "    data['Team'].append(team.team_key)\n",
    "    event_1 = team.events[0]\n",
    "    data['Event 1 Host'].append(event_1.home_team_key)\n",
    "    if event_1.home_team_key == team.team_key:\n",
    "        data['Event 1 Type'].append('Host')\n",
    "        data['Event 1 Distance'].append(0.0)\n",
    "    elif team.team_key in event_1.nearby_teams.keys():\n",
    "        data['Event 1 Type'].append('Nearby')\n",
    "        data['Event 1 Distance'].append(event_1.nearby_teams[team.team_key])\n",
    "    else:\n",
    "        data['Event 1 Type'].append('Travel')\n",
    "        data['Event 1 Distance'].append(event_1.travel_teams[team.team_key])\n",
    "    del event_1\n",
    "    event_2 = team.events[1]\n",
    "    data['Event 2 Host'].append(event_2.home_team_key)\n",
    "    if event_2.home_team_key == team.team_key:\n",
    "        data['Event 2 Type'].append('Host')\n",
    "        data['Event 2 Distance'].append(0.0)\n",
    "    elif team.team_key in event_2.nearby_teams.keys():\n",
    "        data['Event 2 Type'].append('Nearby')\n",
    "        data['Event 2 Distance'].append(event_2.nearby_teams[team.team_key])\n",
    "    else:\n",
    "        data['Event 2 Type'].append('Travel')\n",
    "        data['Event 2 Distance'].append(event_2.travel_teams[team.team_key])\n",
    "    del event_2\n",
    "    if team.team_key not in district_championship_teams.keys():\n",
    "        data['District Championship'].append(False)\n",
    "        data['District Championship Type'].append('')\n",
    "        data['District Championship Distance'].append(-1)\n",
    "    else:\n",
    "        data['District Championship'].append(True)\n",
    "        data['District Championship Type'].append('Nearby' if district_championship_teams[team.team_key] < TRAVEL_DISTANCE else 'Travel')\n",
    "        data['District Championship Distance'].append(district_championship_teams[team.team_key])\n",
    "fum_team_data_df = pd.DataFrame(data)\n",
    "del data\n",
    "fum_team_data_df.to_csv('fum-team-data.csv')\n"
   ]
  }
 ],
 "metadata": {
  "kernelspec": {
   "display_name": "Python 3",
   "language": "python",
   "name": "python3"
  },
  "language_info": {
   "codemirror_mode": {
    "name": "ipython",
    "version": 3
   },
   "file_extension": ".py",
   "mimetype": "text/x-python",
   "name": "python",
   "nbconvert_exporter": "python",
   "pygments_lexer": "ipython3",
   "version": "3.11.1"
  }
 },
 "nbformat": 4,
 "nbformat_minor": 2
}
