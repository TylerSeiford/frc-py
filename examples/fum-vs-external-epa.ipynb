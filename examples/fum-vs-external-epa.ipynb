{
 "cells": [
  {
   "cell_type": "markdown",
   "metadata": {},
   "source": [
    "# Introduction"
   ]
  },
  {
   "cell_type": "markdown",
   "metadata": {},
   "source": [
    "The purpose of this analysis is to compare the normalized EPA (via Statbotics) of Minnesota teams against that of those who come to our events from other states."
   ]
  },
  {
   "cell_type": "markdown",
   "metadata": {},
   "source": [
    "# Code"
   ]
  },
  {
   "cell_type": "markdown",
   "metadata": {},
   "source": [
    "## Imports"
   ]
  },
  {
   "cell_type": "code",
   "execution_count": null,
   "metadata": {},
   "outputs": [],
   "source": [
    "import json\n",
    "from frcpy import FRCPy\n",
    "from frcpy.models import Location, Event, Team, TeamYearStats\n",
    "import pandas as pd\n",
    "import seaborn as sns\n",
    "import matplotlib.pyplot as plt\n",
    "import os\n"
   ]
  },
  {
   "cell_type": "markdown",
   "metadata": {},
   "source": [
    "## Constants"
   ]
  },
  {
   "cell_type": "code",
   "execution_count": null,
   "metadata": {},
   "outputs": [],
   "source": [
    "US_STATE_ABBREVIATIONS = {\n",
    "    'AL': 'Alabama',\n",
    "    'AK': 'Alaska',\n",
    "    'AZ': 'Arizona',\n",
    "    'AR': 'Arkansas',\n",
    "    'CA': 'California',\n",
    "    'CO': 'Colorado',\n",
    "    'CT': 'Connecticut',\n",
    "    'DE': 'Delaware',\n",
    "    'FL': 'Florida',\n",
    "    'GA': 'Georgia',\n",
    "    'HI': 'Hawaii',\n",
    "    'ID': 'Idaho',\n",
    "    'IL': 'Illinois',\n",
    "    'IN': 'Indiana',\n",
    "    'IA': 'Iowa',\n",
    "    'KS': 'Kansas',\n",
    "    'KY': 'Kentucky',\n",
    "    'LA': 'Louisiana',\n",
    "    'ME': 'Maine',\n",
    "    'MD': 'Maryland',\n",
    "    'MA': 'Massachusetts',\n",
    "    'MI': 'Michigan',\n",
    "    'MN': 'Minnesota',\n",
    "    'MS': 'Mississippi',\n",
    "    'MO': 'Missouri',\n",
    "    'MT': 'Montana',\n",
    "    'NE': 'Nebraska',\n",
    "    'NV': 'Nevada',\n",
    "    'NH': 'New Hampshire',\n",
    "    'NJ': 'New Jersey',\n",
    "    'NM': 'New Mexico',\n",
    "    'NY': 'New York',\n",
    "    'NC': 'North Carolina',\n",
    "    'ND': 'North Dakota',\n",
    "    'OH': 'Ohio',\n",
    "    'OK': 'Oklahoma',\n",
    "    'OR': 'Oregon',\n",
    "    'PA': 'Pennsylvania',\n",
    "    'RI': 'Rhode Island',\n",
    "    'SC': 'South Carolina',\n",
    "    'SD': 'South Dakota',\n",
    "    'TN': 'Tennessee',\n",
    "    'TX': 'Texas',\n",
    "    'UT': 'Utah',\n",
    "    'VT': 'Vermont',\n",
    "    'VA': 'Virginia',\n",
    "    'WA': 'Washington',\n",
    "    'WV': 'West Virginia',\n",
    "    'WI': 'Wisconsin',\n",
    "    'WY': 'Wyoming',\n",
    "    'DC': 'District of Columbia',\n",
    "    'MP': 'Northern Mariana Islands',\n",
    "    'PW': 'Palau',\n",
    "    'PR': 'Puerto Rico',\n",
    "    'VI': 'Virgin Islands',\n",
    "    'AA': 'Armed Forces Americas (Except Canada)',\n",
    "    'AE': 'Armed Forces Other/Canada/Other/Middle East',\n",
    "    'AP': 'Armed Forces Pacific'\n",
    "}\n"
   ]
  },
  {
   "cell_type": "code",
   "execution_count": null,
   "metadata": {},
   "outputs": [],
   "source": [
    "try:\n",
    "    # Load the tokens from the environment\n",
    "    TBA_TOKEN = os.environ['SECRET_TBA_TOKEN']\n",
    "    GMAPS_TOKEN = os.environ['SECRET_GMAPS_TOKEN']\n",
    "except KeyError:\n",
    "    # Or load from JSON file\n",
    "    with open('token.json', 'r', encoding='UTF+8') as f:\n",
    "        tokens = json.load(f)\n",
    "        TBA_TOKEN = tokens['TBA']\n",
    "        GMAPS_TOKEN = tokens['GMAPS']\n",
    "\n",
    "API = FRCPy(TBA_TOKEN, GMAPS_TOKEN)\n"
   ]
  },
  {
   "cell_type": "markdown",
   "metadata": {},
   "source": [
    "## Support functions"
   ]
  },
  {
   "cell_type": "code",
   "execution_count": null,
   "metadata": {},
   "outputs": [],
   "source": [
    "def is_fum(loc: Location) -> bool:\n",
    "    if loc.country() != 'USA':\n",
    "        return False\n",
    "\n",
    "    state_prov = loc.state_prov()\n",
    "    if state_prov in US_STATE_ABBREVIATIONS.keys():  # Harmonize state names\n",
    "        state_prov = US_STATE_ABBREVIATIONS[state_prov]\n",
    "    return state_prov == 'Minnesota' or state_prov == 'North Dakota' or state_prov == 'South Dakota'\n"
   ]
  },
  {
   "cell_type": "markdown",
   "metadata": {},
   "source": [
    "## Read data from TBA & Statbotics"
   ]
  },
  {
   "cell_type": "code",
   "execution_count": null,
   "metadata": {},
   "outputs": [],
   "source": [
    "# Prepare team keys\n",
    "teams = API.teams()\n",
    "print(f\"{len(teams)} teams\")\n"
   ]
  },
  {
   "cell_type": "code",
   "execution_count": null,
   "metadata": {},
   "outputs": [],
   "source": [
    "# Prepare event keys\n",
    "event_keys_by_year: dict[int, list[str]] = {}\n",
    "year_range = API.year_range()\n",
    "for year in range(year_range[0], year_range[1]):\n",
    "    event_keys_by_year[year] = API.year_events(year)\n",
    "    print(f\"Found {len(event_keys_by_year[year])} in {year}\")\n"
   ]
  },
  {
   "cell_type": "code",
   "execution_count": null,
   "metadata": {},
   "outputs": [],
   "source": [
    "# Prepare event structures\n",
    "events: dict[str, Event] = {}\n",
    "for year, year_event_keys in event_keys_by_year.items():\n",
    "    for event_key in year_event_keys:\n",
    "        events[event_key] = API.event(event_key)\n",
    "    print(f\"Completed {year}\")\n"
   ]
  },
  {
   "cell_type": "code",
   "execution_count": null,
   "metadata": {},
   "outputs": [],
   "source": [
    "# Filter for only FUM events\n",
    "fum_events: list[Event] = []\n",
    "for event_key, event in events.items():\n",
    "    if event.event_type() != 0:\n",
    "        continue\n",
    "    if is_fum(event.location()):\n",
    "        fum_events.append(event)\n",
    "print(f\"Found {len(fum_events)} FUM events\")\n"
   ]
  },
  {
   "cell_type": "code",
   "execution_count": null,
   "metadata": {},
   "outputs": [],
   "source": [
    "# Grab team lists from FUM events\n",
    "fum_event_teams: dict[str, list[str]] = {}\n",
    "for event in fum_events:\n",
    "    fum_event_teams[event.key()] = API.event_teams(event.key())\n",
    "print(f\"Found team lists for {len(fum_event_teams)} FUM events\")\n"
   ]
  },
  {
   "cell_type": "code",
   "execution_count": null,
   "metadata": {},
   "outputs": [],
   "source": [
    "# Grab team data for all teams at FUM events\n",
    "teams: dict[str, Team] = {}\n",
    "for event_key, team_keys in fum_event_teams.items():\n",
    "    for team_key in team_keys:\n",
    "        teams[team_key] = API.team(team_key)\n",
    "print(f\"Found team data for {len(teams.keys())} teams\")\n"
   ]
  },
  {
   "cell_type": "code",
   "execution_count": null,
   "metadata": {},
   "outputs": [],
   "source": [
    "# Grab team stats for all teams at FUM events\n",
    "team_stats: dict[int, dict[str, TeamYearStats]] = {}\n",
    "count = 0\n",
    "for event_key, team_keys in fum_event_teams.items():\n",
    "    year = Event.event_key_to_year(event_key)\n",
    "    team_stats[year] = {}\n",
    "    for team_key in team_keys:\n",
    "        if team_key in team_stats[year].keys():\n",
    "            continue\n",
    "\n",
    "        try:\n",
    "            team_stats[year][team_key] = API.team_year_stats(team_key, year)\n",
    "            count += 1\n",
    "        except UserWarning:\n",
    "            print(f\"Unable to access {team_key} for {year}\")\n",
    "print(f\"Found team stats for {count} team-year entries\")\n"
   ]
  },
  {
   "cell_type": "markdown",
   "metadata": {},
   "source": [
    "## Reformat data into a DataFrame"
   ]
  },
  {
   "cell_type": "code",
   "execution_count": null,
   "metadata": {},
   "outputs": [],
   "source": [
    "data = {'Team': [], 'Year': [], 'Normalized EPA': [], 'Location': []}\n",
    "for year, year_data in team_stats.items():\n",
    "    for team_key, team_year_stats in year_data.items():\n",
    "        data['Team'].append(Team.team_key_to_number(team_key))\n",
    "        data['Year'].append(year)\n",
    "        data['Normalized EPA'].append(team_year_stats.norm_epa_end())\n",
    "\n",
    "        location = 'FUM' if is_fum(teams[team_key].location()) else 'External'\n",
    "        data['Location'].append(location)\n",
    "\n",
    "df = pd.DataFrame(data)\n"
   ]
  },
  {
   "cell_type": "markdown",
   "metadata": {},
   "source": [
    "# Plot"
   ]
  },
  {
   "cell_type": "code",
   "execution_count": null,
   "metadata": {},
   "outputs": [],
   "source": [
    "sns.set_theme(style='darkgrid', font_scale=0.625)\n",
    "sns.boxplot(x='Year', y='Normalized EPA', hue='Location', data=df)\n",
    "plt.xlabel('Year')\n",
    "plt.ylabel('Normalized EPA')\n",
    "plt.legend(loc='upper left', title='Location')\n",
    "plt.savefig('fum-vs-external-epa.png', dpi=512, bbox_inches='tight')\n",
    "plt.show()\n"
   ]
  }
 ],
 "metadata": {
  "kernelspec": {
   "display_name": "Python 3",
   "language": "python",
   "name": "python3"
  },
  "language_info": {
   "codemirror_mode": {
    "name": "ipython",
    "version": 3
   },
   "file_extension": ".py",
   "mimetype": "text/x-python",
   "name": "python",
   "nbconvert_exporter": "python",
   "pygments_lexer": "ipython3",
   "version": "3.11.1"
  }
 },
 "nbformat": 4,
 "nbformat_minor": 2
}
